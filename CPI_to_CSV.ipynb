{
 "cells": [
  {
   "cell_type": "code",
   "execution_count": 2,
   "id": "1efa02e7",
   "metadata": {},
   "outputs": [],
   "source": [
    "import json\n",
    "import pandas as pd\n",
    "import requests\n",
    "from sqlalchemy import create_engine\n",
    "import sqlite3 as db\n",
    "from sqlite3 import Error\n",
    "from datetime import datetime\n",
    "\n",
    "%run C:\\Users\\Joshua\\Jupyter_Notebook_Folders\\APIkeys.py\n",
    "%run C:\\Users\\Joshua\\Jupyter_Notebook_Folders\\MacroData2\\db_functions.py\n",
    "%run C:\\Users\\Joshua\\Jupyter_Notebook_Folders\\MacroData2\\Get_Data_Functions.py"
   ]
  },
  {
   "cell_type": "code",
   "execution_count": 4,
   "id": "3c182e9f",
   "metadata": {},
   "outputs": [],
   "source": [
    "def list_db_tables(db_name):\n",
    "    Conn = db.connect(db_name)\n",
    "    sql_query = \"\"\"SELECT name FROM sqlite_master  \n",
    "      WHERE type='table';\"\"\"\n",
    "    cursor = Conn.cursor()\n",
    "    cursor.execute(sql_query)\n",
    "    print(cursor.fetchall())\n",
    "    Conn.close() "
   ]
  },
  {
   "cell_type": "code",
   "execution_count": 5,
   "id": "104e2de8",
   "metadata": {},
   "outputs": [
    {
     "name": "stdout",
     "output_type": "stream",
     "text": [
      "[]\n"
     ]
    }
   ],
   "source": [
    "list_db_tables('MacroData.db')"
   ]
  },
  {
   "cell_type": "code",
   "execution_count": 7,
   "id": "a44c1561",
   "metadata": {},
   "outputs": [],
   "source": [
    "def create_year_increments(startyear, endyear):\n",
    "    \"\"\"\n",
    "    Create start and endyear increments of 20 years or \n",
    "    \"\"\"\n",
    "    if endyear - startyear < 20:\n",
    "        return startyear, endyear\n",
    "    else:\n",
    "        i = startyear\n",
    "        increments = []\n",
    "        while i <= endyear: \n",
    "            start_end_array = []\n",
    "            start_end_array.append(i)\n",
    "            if i + 19 > endyear:\n",
    "                start_end_array.append(endyear)\n",
    "            else:\n",
    "                start_end_array.append(i + 19)\n",
    "            increments.append(start_end_array)\n",
    "            i += 20\n",
    "    \n",
    "    return increments"
   ]
  },
  {
   "cell_type": "code",
   "execution_count": 8,
   "id": "ae77ffde",
   "metadata": {},
   "outputs": [
    {
     "data": {
      "text/html": [
       "<div>\n",
       "<style scoped>\n",
       "    .dataframe tbody tr th:only-of-type {\n",
       "        vertical-align: middle;\n",
       "    }\n",
       "\n",
       "    .dataframe tbody tr th {\n",
       "        vertical-align: top;\n",
       "    }\n",
       "\n",
       "    .dataframe thead th {\n",
       "        text-align: right;\n",
       "    }\n",
       "</style>\n",
       "<table border=\"1\" class=\"dataframe\">\n",
       "  <thead>\n",
       "    <tr style=\"text-align: right;\">\n",
       "      <th></th>\n",
       "      <th>value</th>\n",
       "      <th>month</th>\n",
       "      <th>pct_changeMoM</th>\n",
       "      <th>pct_changeYoY</th>\n",
       "      <th>pct_changeMoM_Ann</th>\n",
       "    </tr>\n",
       "  </thead>\n",
       "  <tbody>\n",
       "    <tr>\n",
       "      <th>239</th>\n",
       "      <td>41.20</td>\n",
       "      <td>1972-01</td>\n",
       "      <td>NaN</td>\n",
       "      <td>NaN</td>\n",
       "      <td>NaN</td>\n",
       "    </tr>\n",
       "    <tr>\n",
       "      <th>238</th>\n",
       "      <td>41.40</td>\n",
       "      <td>1972-02</td>\n",
       "      <td>0.485437</td>\n",
       "      <td>NaN</td>\n",
       "      <td>5.983315</td>\n",
       "    </tr>\n",
       "    <tr>\n",
       "      <th>237</th>\n",
       "      <td>41.40</td>\n",
       "      <td>1972-03</td>\n",
       "      <td>0.000000</td>\n",
       "      <td>NaN</td>\n",
       "      <td>0.000000</td>\n",
       "    </tr>\n",
       "    <tr>\n",
       "      <th>236</th>\n",
       "      <td>41.50</td>\n",
       "      <td>1972-04</td>\n",
       "      <td>0.241546</td>\n",
       "      <td>NaN</td>\n",
       "      <td>2.937370</td>\n",
       "    </tr>\n",
       "    <tr>\n",
       "      <th>235</th>\n",
       "      <td>41.60</td>\n",
       "      <td>1972-05</td>\n",
       "      <td>0.240964</td>\n",
       "      <td>NaN</td>\n",
       "      <td>2.930198</td>\n",
       "    </tr>\n",
       "    <tr>\n",
       "      <th>...</th>\n",
       "      <td>...</td>\n",
       "      <td>...</td>\n",
       "      <td>...</td>\n",
       "      <td>...</td>\n",
       "      <td>...</td>\n",
       "    </tr>\n",
       "    <tr>\n",
       "      <th>4</th>\n",
       "      <td>312.230</td>\n",
       "      <td>2024-03</td>\n",
       "      <td>0.378069</td>\n",
       "      <td>3.475131</td>\n",
       "      <td>4.632370</td>\n",
       "    </tr>\n",
       "    <tr>\n",
       "      <th>3</th>\n",
       "      <td>313.207</td>\n",
       "      <td>2024-04</td>\n",
       "      <td>0.312910</td>\n",
       "      <td>3.357731</td>\n",
       "      <td>3.820226</td>\n",
       "    </tr>\n",
       "    <tr>\n",
       "      <th>2</th>\n",
       "      <td>313.225</td>\n",
       "      <td>2024-05</td>\n",
       "      <td>0.005747</td>\n",
       "      <td>3.250210</td>\n",
       "      <td>0.068986</td>\n",
       "    </tr>\n",
       "    <tr>\n",
       "      <th>1</th>\n",
       "      <td>313.049</td>\n",
       "      <td>2024-06</td>\n",
       "      <td>-0.056190</td>\n",
       "      <td>2.975629</td>\n",
       "      <td>-0.672196</td>\n",
       "    </tr>\n",
       "    <tr>\n",
       "      <th>0</th>\n",
       "      <td>313.534</td>\n",
       "      <td>2024-07</td>\n",
       "      <td>0.154928</td>\n",
       "      <td>2.923566</td>\n",
       "      <td>1.875058</td>\n",
       "    </tr>\n",
       "  </tbody>\n",
       "</table>\n",
       "<p>631 rows × 5 columns</p>\n",
       "</div>"
      ],
      "text/plain": [
       "       value    month  pct_changeMoM  pct_changeYoY  pct_changeMoM_Ann\n",
       "239    41.20  1972-01            NaN            NaN                NaN\n",
       "238    41.40  1972-02       0.485437            NaN           5.983315\n",
       "237    41.40  1972-03       0.000000            NaN           0.000000\n",
       "236    41.50  1972-04       0.241546            NaN           2.937370\n",
       "235    41.60  1972-05       0.240964            NaN           2.930198\n",
       "..       ...      ...            ...            ...                ...\n",
       "4    312.230  2024-03       0.378069       3.475131           4.632370\n",
       "3    313.207  2024-04       0.312910       3.357731           3.820226\n",
       "2    313.225  2024-05       0.005747       3.250210           0.068986\n",
       "1    313.049  2024-06      -0.056190       2.975629          -0.672196\n",
       "0    313.534  2024-07       0.154928       2.923566           1.875058\n",
       "\n",
       "[631 rows x 5 columns]"
      ]
     },
     "execution_count": 8,
     "metadata": {},
     "output_type": "execute_result"
    }
   ],
   "source": [
    "increments = create_year_increments(1972,2024)\n",
    "i = 0\n",
    "df_data = pd.DataFrame() \n",
    "df_dict = pd.DataFrame() \n",
    "while i < len(increments):\n",
    "    #print(increments[i][0])\n",
    "    \n",
    "    message, json_data = get_BLS_data([\"CUSR0000SA0\"], increments[i][0], increments[i][1])\n",
    "    if not df_data.empty:\n",
    "        df_data = pd.concat([df_data, pd.DataFrame(json_data['Results']['series'][0]['data'])])\n",
    "    if df_data.empty:\n",
    "        df_data = pd.DataFrame(json_data['Results']['series'][0]['data'])\n",
    "    if df_dict.empty: \n",
    "        df_dict = create_dict_dataframe(json_data)\n",
    "    i += 1\n",
    "\n",
    "df_data['month'] = df_data['year'] + df_data['period'].str.replace('M','')\n",
    "df_data['month'] = pd.to_datetime(df_data['month'],format='%Y%m')\n",
    "df_data['month'] = df_data['month'].dt.date.apply(lambda x: x.strftime('%Y-%m'))\n",
    "df_data = df_data.sort_values(by=['month'])\n",
    "df_data['pct_changeMoM'] = df_data['value'].astype(float).pct_change() * 100\n",
    "df_data['pct_changeYoY'] = df_data['value'].astype(float).pct_change(12) * 100\n",
    "df_data['pct_changeMoM_Ann'] = ((df_data['value'].astype(float).pct_change() + 1) ** 12 - 1) * 100\n",
    "df_data = df_data.drop(columns=['year', 'period','periodName', 'latest','footnotes'])\n",
    "df_data  "
   ]
  },
  {
   "cell_type": "code",
   "execution_count": 9,
   "id": "8d83a5fb",
   "metadata": {},
   "outputs": [
    {
     "data": {
      "text/html": [
       "<div>\n",
       "<style scoped>\n",
       "    .dataframe tbody tr th:only-of-type {\n",
       "        vertical-align: middle;\n",
       "    }\n",
       "\n",
       "    .dataframe tbody tr th {\n",
       "        vertical-align: top;\n",
       "    }\n",
       "\n",
       "    .dataframe thead th {\n",
       "        text-align: right;\n",
       "    }\n",
       "</style>\n",
       "<table border=\"1\" class=\"dataframe\">\n",
       "  <thead>\n",
       "    <tr style=\"text-align: right;\">\n",
       "      <th></th>\n",
       "      <th>series_title</th>\n",
       "      <th>seasonality</th>\n",
       "      <th>survey_long_name</th>\n",
       "      <th>survey_short_name</th>\n",
       "      <th>survey_abbreviation</th>\n",
       "      <th>measure_data_type</th>\n",
       "      <th>area</th>\n",
       "      <th>item</th>\n",
       "    </tr>\n",
       "    <tr>\n",
       "      <th>series_id</th>\n",
       "      <th></th>\n",
       "      <th></th>\n",
       "      <th></th>\n",
       "      <th></th>\n",
       "      <th></th>\n",
       "      <th></th>\n",
       "      <th></th>\n",
       "      <th></th>\n",
       "    </tr>\n",
       "  </thead>\n",
       "  <tbody>\n",
       "    <tr>\n",
       "      <th>CUSR0000SA0</th>\n",
       "      <td>All items in U.S. city average, all urban cons...</td>\n",
       "      <td>Seasonally Adjusted</td>\n",
       "      <td>Consumer Price Index for All Urban Consumers (...</td>\n",
       "      <td>CPI-U</td>\n",
       "      <td>CU</td>\n",
       "      <td>All items</td>\n",
       "      <td>U.S. city average</td>\n",
       "      <td>All items</td>\n",
       "    </tr>\n",
       "  </tbody>\n",
       "</table>\n",
       "</div>"
      ],
      "text/plain": [
       "                                                  series_title  \\\n",
       "series_id                                                        \n",
       "CUSR0000SA0  All items in U.S. city average, all urban cons...   \n",
       "\n",
       "                     seasonality  \\\n",
       "series_id                          \n",
       "CUSR0000SA0  Seasonally Adjusted   \n",
       "\n",
       "                                              survey_long_name  \\\n",
       "series_id                                                        \n",
       "CUSR0000SA0  Consumer Price Index for All Urban Consumers (...   \n",
       "\n",
       "            survey_short_name survey_abbreviation measure_data_type  \\\n",
       "series_id                                                             \n",
       "CUSR0000SA0             CPI-U                  CU         All items   \n",
       "\n",
       "                          area       item  \n",
       "series_id                                  \n",
       "CUSR0000SA0  U.S. city average  All items  "
      ]
     },
     "execution_count": 9,
     "metadata": {},
     "output_type": "execute_result"
    }
   ],
   "source": [
    "df_dict"
   ]
  },
  {
   "cell_type": "code",
   "execution_count": 10,
   "id": "4dc1c351",
   "metadata": {},
   "outputs": [],
   "source": [
    "df_data.to_csv('CPI.csv', index=False)"
   ]
  },
  {
   "cell_type": "code",
   "execution_count": 11,
   "id": "40c9b99c",
   "metadata": {},
   "outputs": [
    {
     "data": {
      "text/plain": [
       "631"
      ]
     },
     "execution_count": 11,
     "metadata": {},
     "output_type": "execute_result"
    }
   ],
   "source": [
    "conn = db.connect('MacroData.db')\n",
    "df_data.to_sql(df_dict.index[0] + '_data', conn, if_exists='replace')"
   ]
  },
  {
   "cell_type": "code",
   "execution_count": null,
   "id": "cc34e50a",
   "metadata": {},
   "outputs": [],
   "source": []
  },
  {
   "cell_type": "code",
   "execution_count": 3,
   "id": "272e3967",
   "metadata": {},
   "outputs": [
    {
     "name": "stdout",
     "output_type": "stream",
     "text": [
      "data dropped successfully\n"
     ]
    }
   ],
   "source": [
    "# create connection to the database\n",
    "connection = db.connect('MacroData.db') \n",
    "  \n",
    "# drop table \n",
    "connection.execute(\"DROP TABLE CUSR0000SA0_data\") \n",
    "  \n",
    "print(\"data dropped successfully\") \n",
    "  \n",
    "# close the connection \n",
    "connection.close() "
   ]
  },
  {
   "cell_type": "code",
   "execution_count": null,
   "id": "caf6674b",
   "metadata": {},
   "outputs": [],
   "source": []
  }
 ],
 "metadata": {
  "kernelspec": {
   "display_name": "Python 3 (ipykernel)",
   "language": "python",
   "name": "python3"
  },
  "language_info": {
   "codemirror_mode": {
    "name": "ipython",
    "version": 3
   },
   "file_extension": ".py",
   "mimetype": "text/x-python",
   "name": "python",
   "nbconvert_exporter": "python",
   "pygments_lexer": "ipython3",
   "version": "3.10.1"
  }
 },
 "nbformat": 4,
 "nbformat_minor": 5
}
