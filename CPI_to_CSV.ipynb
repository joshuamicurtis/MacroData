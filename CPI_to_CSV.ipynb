{
 "cells": [
  {
   "cell_type": "code",
   "execution_count": 4,
   "id": "1efa02e7",
   "metadata": {},
   "outputs": [],
   "source": [
    "import json\n",
    "import pandas as pd\n",
    "import requests\n",
    "from sqlalchemy import create_engine\n",
    "import sqlite3 as db\n",
    "from sqlite3 import Error\n",
    "from datetime import datetime\n",
    "\n",
    "%run C:\\Users\\Joshua\\Jupyter_Notebook_Folders\\APIkeys.py\n",
    "%run C:\\Users\\Joshua\\Jupyter_Notebook_Folders\\MacroData2\\db_functions.py\n",
    "%run C:\\Users\\Joshua\\Jupyter_Notebook_Folders\\MacroData2\\Get_Data_Functions.py"
   ]
  },
  {
   "cell_type": "code",
   "execution_count": 6,
   "id": "3c182e9f",
   "metadata": {},
   "outputs": [],
   "source": [
    "def list_db_tables(db_name):\n",
    "    Conn = db.connect(db_name)\n",
    "    sql_query = \"\"\"SELECT name FROM sqlite_master  \n",
    "      WHERE type='table';\"\"\"\n",
    "    cursor = Conn.cursor()\n",
    "    cursor.execute(sql_query)\n",
    "    print(cursor.fetchall())\n",
    "    Conn.close() "
   ]
  },
  {
   "cell_type": "code",
   "execution_count": 7,
   "id": "104e2de8",
   "metadata": {},
   "outputs": [
    {
     "name": "stdout",
     "output_type": "stream",
     "text": [
      "[]\n"
     ]
    }
   ],
   "source": [
    "list_db_tables('MacroData.db')"
   ]
  },
  {
   "cell_type": "code",
   "execution_count": 4,
   "id": "a44c1561",
   "metadata": {},
   "outputs": [],
   "source": []
  },
  {
   "cell_type": "code",
   "execution_count": 10,
   "id": "ba91400e",
   "metadata": {},
   "outputs": [],
   "source": []
  },
  {
   "cell_type": "code",
   "execution_count": 8,
   "id": "ab8e2f6d",
   "metadata": {},
   "outputs": [
    {
     "data": {
      "text/html": [
       "<div>\n",
       "<style scoped>\n",
       "    .dataframe tbody tr th:only-of-type {\n",
       "        vertical-align: middle;\n",
       "    }\n",
       "\n",
       "    .dataframe tbody tr th {\n",
       "        vertical-align: top;\n",
       "    }\n",
       "\n",
       "    .dataframe thead th {\n",
       "        text-align: right;\n",
       "    }\n",
       "</style>\n",
       "<table border=\"1\" class=\"dataframe\">\n",
       "  <thead>\n",
       "    <tr style=\"text-align: right;\">\n",
       "      <th></th>\n",
       "      <th>value</th>\n",
       "      <th>month</th>\n",
       "      <th>pct_changeMoM</th>\n",
       "      <th>pct_changeYoY</th>\n",
       "      <th>pct_changeMoM_Ann</th>\n",
       "    </tr>\n",
       "  </thead>\n",
       "  <tbody>\n",
       "    <tr>\n",
       "      <th>239</th>\n",
       "      <td>23.51</td>\n",
       "      <td>1950-01</td>\n",
       "      <td>NaN</td>\n",
       "      <td>NaN</td>\n",
       "      <td>NaN</td>\n",
       "    </tr>\n",
       "    <tr>\n",
       "      <th>238</th>\n",
       "      <td>23.61</td>\n",
       "      <td>1950-02</td>\n",
       "      <td>0.425351</td>\n",
       "      <td>NaN</td>\n",
       "      <td>5.225330</td>\n",
       "    </tr>\n",
       "    <tr>\n",
       "      <th>237</th>\n",
       "      <td>23.64</td>\n",
       "      <td>1950-03</td>\n",
       "      <td>0.127065</td>\n",
       "      <td>NaN</td>\n",
       "      <td>1.535479</td>\n",
       "    </tr>\n",
       "    <tr>\n",
       "      <th>236</th>\n",
       "      <td>23.65</td>\n",
       "      <td>1950-04</td>\n",
       "      <td>0.042301</td>\n",
       "      <td>NaN</td>\n",
       "      <td>0.508797</td>\n",
       "    </tr>\n",
       "    <tr>\n",
       "      <th>235</th>\n",
       "      <td>23.77</td>\n",
       "      <td>1950-05</td>\n",
       "      <td>0.507400</td>\n",
       "      <td>NaN</td>\n",
       "      <td>6.261622</td>\n",
       "    </tr>\n",
       "    <tr>\n",
       "      <th>...</th>\n",
       "      <td>...</td>\n",
       "      <td>...</td>\n",
       "      <td>...</td>\n",
       "      <td>...</td>\n",
       "      <td>...</td>\n",
       "    </tr>\n",
       "    <tr>\n",
       "      <th>4</th>\n",
       "      <td>312.230</td>\n",
       "      <td>2024-03</td>\n",
       "      <td>0.378069</td>\n",
       "      <td>3.475131</td>\n",
       "      <td>4.632370</td>\n",
       "    </tr>\n",
       "    <tr>\n",
       "      <th>3</th>\n",
       "      <td>313.207</td>\n",
       "      <td>2024-04</td>\n",
       "      <td>0.312910</td>\n",
       "      <td>3.357731</td>\n",
       "      <td>3.820226</td>\n",
       "    </tr>\n",
       "    <tr>\n",
       "      <th>2</th>\n",
       "      <td>313.225</td>\n",
       "      <td>2024-05</td>\n",
       "      <td>0.005747</td>\n",
       "      <td>3.250210</td>\n",
       "      <td>0.068986</td>\n",
       "    </tr>\n",
       "    <tr>\n",
       "      <th>1</th>\n",
       "      <td>313.049</td>\n",
       "      <td>2024-06</td>\n",
       "      <td>-0.056190</td>\n",
       "      <td>2.975629</td>\n",
       "      <td>-0.672196</td>\n",
       "    </tr>\n",
       "    <tr>\n",
       "      <th>0</th>\n",
       "      <td>313.534</td>\n",
       "      <td>2024-07</td>\n",
       "      <td>0.154928</td>\n",
       "      <td>2.923566</td>\n",
       "      <td>1.875058</td>\n",
       "    </tr>\n",
       "  </tbody>\n",
       "</table>\n",
       "<p>895 rows × 5 columns</p>\n",
       "</div>"
      ],
      "text/plain": [
       "       value    month  pct_changeMoM  pct_changeYoY  pct_changeMoM_Ann\n",
       "239    23.51  1950-01            NaN            NaN                NaN\n",
       "238    23.61  1950-02       0.425351            NaN           5.225330\n",
       "237    23.64  1950-03       0.127065            NaN           1.535479\n",
       "236    23.65  1950-04       0.042301            NaN           0.508797\n",
       "235    23.77  1950-05       0.507400            NaN           6.261622\n",
       "..       ...      ...            ...            ...                ...\n",
       "4    312.230  2024-03       0.378069       3.475131           4.632370\n",
       "3    313.207  2024-04       0.312910       3.357731           3.820226\n",
       "2    313.225  2024-05       0.005747       3.250210           0.068986\n",
       "1    313.049  2024-06      -0.056190       2.975629          -0.672196\n",
       "0    313.534  2024-07       0.154928       2.923566           1.875058\n",
       "\n",
       "[895 rows x 5 columns]"
      ]
     },
     "execution_count": 8,
     "metadata": {},
     "output_type": "execute_result"
    }
   ],
   "source": [
    "df_data, df_dict  = create_dataframes(\"CUSR0000SA0\", 1950, 2024)\n",
    "df_data"
   ]
  },
  {
   "cell_type": "code",
   "execution_count": 9,
   "id": "3b5b059d",
   "metadata": {},
   "outputs": [
    {
     "data": {
      "text/html": [
       "<div>\n",
       "<style scoped>\n",
       "    .dataframe tbody tr th:only-of-type {\n",
       "        vertical-align: middle;\n",
       "    }\n",
       "\n",
       "    .dataframe tbody tr th {\n",
       "        vertical-align: top;\n",
       "    }\n",
       "\n",
       "    .dataframe thead th {\n",
       "        text-align: right;\n",
       "    }\n",
       "</style>\n",
       "<table border=\"1\" class=\"dataframe\">\n",
       "  <thead>\n",
       "    <tr style=\"text-align: right;\">\n",
       "      <th></th>\n",
       "      <th>series_title</th>\n",
       "      <th>seasonality</th>\n",
       "      <th>survey_long_name</th>\n",
       "      <th>survey_short_name</th>\n",
       "      <th>survey_abbreviation</th>\n",
       "      <th>measure_data_type</th>\n",
       "      <th>area</th>\n",
       "      <th>item</th>\n",
       "    </tr>\n",
       "    <tr>\n",
       "      <th>series_id</th>\n",
       "      <th></th>\n",
       "      <th></th>\n",
       "      <th></th>\n",
       "      <th></th>\n",
       "      <th></th>\n",
       "      <th></th>\n",
       "      <th></th>\n",
       "      <th></th>\n",
       "    </tr>\n",
       "  </thead>\n",
       "  <tbody>\n",
       "    <tr>\n",
       "      <th>CUSR0000SA0</th>\n",
       "      <td>All items in U.S. city average, all urban cons...</td>\n",
       "      <td>Seasonally Adjusted</td>\n",
       "      <td>Consumer Price Index for All Urban Consumers (...</td>\n",
       "      <td>CPI-U</td>\n",
       "      <td>CU</td>\n",
       "      <td>All items</td>\n",
       "      <td>U.S. city average</td>\n",
       "      <td>All items</td>\n",
       "    </tr>\n",
       "  </tbody>\n",
       "</table>\n",
       "</div>"
      ],
      "text/plain": [
       "                                                  series_title  \\\n",
       "series_id                                                        \n",
       "CUSR0000SA0  All items in U.S. city average, all urban cons...   \n",
       "\n",
       "                     seasonality  \\\n",
       "series_id                          \n",
       "CUSR0000SA0  Seasonally Adjusted   \n",
       "\n",
       "                                              survey_long_name  \\\n",
       "series_id                                                        \n",
       "CUSR0000SA0  Consumer Price Index for All Urban Consumers (...   \n",
       "\n",
       "            survey_short_name survey_abbreviation measure_data_type  \\\n",
       "series_id                                                             \n",
       "CUSR0000SA0             CPI-U                  CU         All items   \n",
       "\n",
       "                          area       item  \n",
       "series_id                                  \n",
       "CUSR0000SA0  U.S. city average  All items  "
      ]
     },
     "execution_count": 9,
     "metadata": {},
     "output_type": "execute_result"
    }
   ],
   "source": [
    "df_dict"
   ]
  },
  {
   "cell_type": "code",
   "execution_count": 10,
   "id": "4dc1c351",
   "metadata": {},
   "outputs": [],
   "source": [
    "df_data.to_csv('CPI.csv', index=False)"
   ]
  },
  {
   "cell_type": "code",
   "execution_count": 11,
   "id": "249ae8a7",
   "metadata": {},
   "outputs": [
    {
     "data": {
      "text/plain": [
       "895"
      ]
     },
     "execution_count": 11,
     "metadata": {},
     "output_type": "execute_result"
    }
   ],
   "source": [
    "conn = db.connect('MacroData.db')\n",
    "df_data.to_sql(df_dict.index[0] + '_data', conn, if_exists='replace')"
   ]
  },
  {
   "cell_type": "code",
   "execution_count": 5,
   "id": "272e3967",
   "metadata": {},
   "outputs": [
    {
     "ename": "OperationalError",
     "evalue": "no such table: CUSR0000SA0_data",
     "output_type": "error",
     "traceback": [
      "\u001b[1;31m---------------------------------------------------------------------------\u001b[0m",
      "\u001b[1;31mOperationalError\u001b[0m                          Traceback (most recent call last)",
      "Input \u001b[1;32mIn [5]\u001b[0m, in \u001b[0;36m<cell line: 5>\u001b[1;34m()\u001b[0m\n\u001b[0;32m      2\u001b[0m connection \u001b[38;5;241m=\u001b[39m db\u001b[38;5;241m.\u001b[39mconnect(\u001b[38;5;124m'\u001b[39m\u001b[38;5;124mMacroData.db\u001b[39m\u001b[38;5;124m'\u001b[39m) \n\u001b[0;32m      4\u001b[0m \u001b[38;5;66;03m# drop table \u001b[39;00m\n\u001b[1;32m----> 5\u001b[0m \u001b[43mconnection\u001b[49m\u001b[38;5;241;43m.\u001b[39;49m\u001b[43mexecute\u001b[49m\u001b[43m(\u001b[49m\u001b[38;5;124;43m\"\u001b[39;49m\u001b[38;5;124;43mDROP TABLE CUSR0000SA0_data\u001b[39;49m\u001b[38;5;124;43m\"\u001b[39;49m\u001b[43m)\u001b[49m \n\u001b[0;32m      7\u001b[0m \u001b[38;5;28mprint\u001b[39m(\u001b[38;5;124m\"\u001b[39m\u001b[38;5;124mdata dropped successfully\u001b[39m\u001b[38;5;124m\"\u001b[39m) \n\u001b[0;32m      9\u001b[0m \u001b[38;5;66;03m# close the connection \u001b[39;00m\n",
      "\u001b[1;31mOperationalError\u001b[0m: no such table: CUSR0000SA0_data"
     ]
    }
   ],
   "source": [
    "# create connection to the database\n",
    "connection = db.connect('MacroData.db') \n",
    "  \n",
    "# drop table \n",
    "connection.execute(\"DROP TABLE CUSR0000SA0_data\") \n",
    "  \n",
    "print(\"data dropped successfully\") \n",
    "  \n",
    "# close the connection \n",
    "connection.close() "
   ]
  },
  {
   "cell_type": "code",
   "execution_count": null,
   "id": "ffc9009c",
   "metadata": {},
   "outputs": [],
   "source": []
  },
  {
   "cell_type": "code",
   "execution_count": null,
   "id": "ff8db96e",
   "metadata": {},
   "outputs": [],
   "source": []
  }
 ],
 "metadata": {
  "kernelspec": {
   "display_name": "Python 3 (ipykernel)",
   "language": "python",
   "name": "python3"
  },
  "language_info": {
   "codemirror_mode": {
    "name": "ipython",
    "version": 3
   },
   "file_extension": ".py",
   "mimetype": "text/x-python",
   "name": "python",
   "nbconvert_exporter": "python",
   "pygments_lexer": "ipython3",
   "version": "3.10.1"
  }
 },
 "nbformat": 4,
 "nbformat_minor": 5
}
